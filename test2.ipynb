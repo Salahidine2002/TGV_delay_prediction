{
 "cells": [
  {
   "cell_type": "code",
   "execution_count": null,
   "metadata": {},
   "outputs": [],
   "source": [
    "from tools.tools_database import *\n",
    "\n",
    "Dataset = Read_data('./Data/TGV.csv')\n",
    "\n",
    "map_ = Display_network(Dataset)"
   ]
  },
  {
   "cell_type": "code",
   "execution_count": null,
   "metadata": {},
   "outputs": [],
   "source": [
    "Dataset = Read_data('./Data/TGV.csv')\n",
    "\n",
    "map_ = Display_map_delays(Dataset, column='delay')"
   ]
  },
  {
   "cell_type": "code",
   "execution_count": null,
   "metadata": {},
   "outputs": [],
   "source": [
    "Dataset = Read_data('./Data/TGV.csv')\n",
    "\n",
    "map_ = Display_map_delays(Dataset, column='nb_train_retard_arrivee')"
   ]
  },
  {
   "cell_type": "code",
   "execution_count": null,
   "metadata": {},
   "outputs": [],
   "source": [
    "Dataset = Read_data('./Data/TGV.csv')\n",
    "A = np.unique(Dataset['gare_depart'])\n",
    "\n",
    "Box_plot_months(Dataset, A[1], 'PARIS MONTPARNASSE', 'duree_moyenne')"
   ]
  }
 ],
 "metadata": {
  "language_info": {
   "name": "python"
  }
 },
 "nbformat": 4,
 "nbformat_minor": 2
}
